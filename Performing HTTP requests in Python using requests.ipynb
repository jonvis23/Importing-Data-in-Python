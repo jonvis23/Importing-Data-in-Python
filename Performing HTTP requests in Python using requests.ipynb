{
 "cells": [
  {
   "cell_type": "markdown",
   "metadata": {},
   "source": [
    "# Performing HTTP requests in Python using requests"
   ]
  },
  {
   "cell_type": "code",
   "execution_count": 2,
   "metadata": {},
   "outputs": [],
   "source": [
    "# Import package\n",
    "import requests"
   ]
  },
  {
   "cell_type": "code",
   "execution_count": 3,
   "metadata": {},
   "outputs": [],
   "source": [
    "\n",
    "# Specify the url: url\n",
    "url = 'http://www.datacamp.com/teach/documentation'"
   ]
  },
  {
   "cell_type": "markdown",
   "metadata": {},
   "source": [
    "Package the request to the URL, send the request and catch the response with a single function requests.get(), assigning the response to the variable r.\n",
    "\n",
    "Use the text attribute of the object r to return the HTML of the webpage as a string; store the result in a variable text."
   ]
  },
  {
   "cell_type": "code",
   "execution_count": 4,
   "metadata": {},
   "outputs": [
    {
     "name": "stdout",
     "output_type": "stream",
     "text": [
      "<!DOCTYPE html>\n",
      "<html lang=\"en-US\">\n",
      "<head>\n",
      "    <title>Just a moment...</title>\n",
      "    <meta http-equiv=\"Content-Type\" content=\"text/html; charset=UTF-8\">\n",
      "    <meta http-equiv=\"X-UA-Compatible\" content=\"IE=Edge\">\n",
      "    <meta name=\"robots\" content=\"noindex,nofollow\">\n",
      "    <meta name=\"viewport\" content=\"width=device-width,initial-scale=1\">\n",
      "    <link href=\"/cdn-cgi/styles/challenges.css\" rel=\"stylesheet\">\n",
      "    <meta http-equiv=\"refresh\" content=\"35\">\n",
      "\n",
      "</head>\n",
      "<body class=\"no-js\">\n",
      "    <div class=\"main-wrapper\" role=\"main\">\n",
      "    <div class=\"main-content\">\n",
      "        <noscript>\n",
      "            <div id=\"challenge-error-title\">\n",
      "                <div class=\"h2\">\n",
      "                    <span class=\"icon-wrapper\">\n",
      "                        <div class=\"heading-icon warning-icon\"></div>\n",
      "                    </span>\n",
      "                    <span id=\"challenge-error-text\">\n",
      "                        Enable JavaScript and cookies to continue\n",
      "                    </span>\n",
      "                </div>\n",
      "            </div>\n",
      "        </noscript>\n",
      "        <div id=\"trk_jschal_js\" style=\"display:none;background-image:url('/cdn-cgi/images/trace/jsch/nojs/transparent.gif?ray=7ad6048dcbe4cb77')\"></div>\n",
      "        <form id=\"challenge-form\" action=\"/teach/documentation?__cf_chl_f_tk=UhfOCOB3pciT2NM6aQj20e9HgLrRtGZJPsK7DYKfxX0-1679735395-0-gaNycGzNCns\" method=\"POST\" enctype=\"application/x-www-form-urlencoded\">\n",
      "            <input type=\"hidden\" name=\"md\" value=\"GNE7gD1cfb9jqf3qV_yDWaRISILAXJQNyh1.nDwuZRk-1679735395-0-Ae83IQUjyuAyYjYdk2j7WggeXHMPMvH8huaFOnlQ6ikG3M8oxnm8RLkTJW29-47XYSU4wXWAl_8wx7lBZvxiAXgQkdRDEd7xNBhem0tNX4YgJY71J3P1Zq15VwSvdmOaxxfRhqUL9fcXT4j6UMWmL5zoyO16clVUSi5U7r21dO52izgN66HPk0ap2dqvjCVSq74dgMYlAQB1lQRwTZ4t-XomB_Q7DFuF_ldXaS_XR8SHRGqkd6kU_GuuAk2KkMGpKjJhK7OhPQSr9ocU7tXvH7yVJWtXdZNKdmBLTQxN1khmpS0eQhfwb4YL34MkaMxyv3Yp5M37oQjWxp3psJdZM_A3dvWhNynD45uLqC2T6XQZ6DpGa2d32Wibyt5xX4WZWpgsoGmOq-OOh6lQbAEeLzIGB2V9wS4tKznHbnUjNKvZElSDVRlrOkhJln2lhQseG23HQ8MEeJSc9DVXz0_iItzIsPHuHhbBQUXHXy3LmKqt7QKzVreNmsyknqWXoL4bnKI9JDqNx0x38mg183X7DaCM8MplvClQtSMXG1LritI6XjcW-kQVJa2WWuUV7_3hvHvbdVZbXOf2EgwIp3hus3YuhwZJlnzjGwcrxdkPavsMZ0VuoBYOCv7rDuQYb4lFScfvA9U-zVKfIR_Dyj7jm4e4xkZNmcqYDyQ4X5RhQ5LAGVJovmPzTaNg_caRj2bGYGk4NtvZNWuvwZz-cu_DnJlm7-VlDdMa7nSn2eMz__UBjFBs-kryYi2xuuJCSeM4gJKGsec__7Ym_4fCzgzDdgNjeHmRmJasSC8goQwvGDxrw5aINjvyW87vUHV7k1SAg4xpAxtnMpKPARtbmbFtfJhEFaKTy-eGHhS-gfuscw7flp9FZmchpOE-ibKiraVWJnzFPIHevVor_mP8tOiaU6ODM-a8-AEgj9WXELQbUXnOJOEE2USTltuFvKEk0_EezYTPImxmEboioaKuwCIRcLP0LNLjmxFHSIvesvfKcG8s5YvMhWC4CB0YbcFtClO1n1JGv2TUM2fel4sE2AQGa8YbnZU_9EnVVo-KnkGV4JbIf66RIvJS0r3B388TfcmBDc1rtRBK1ROdyFR4FsxxBrgpSmIRJn4CdIIrwvn52AKzTqWbLlvMx8yMQuSuhBFCrZ_pC8JMCf5NvKOaciMLSrtOxhwKXNEgq9bRkhLkyJ33Qfwg6nrD4i6qzG3TRoRqohNnID0umlpzqqzKvUN8JAMA8Xmy4dXADN6GLJ6Mj5IgMQKvvSA8PN9LTbvmLe6x68ipQCjyH-SOe4KMw53EZj6jAatx7kJskZp716tsKHJhZWHmcpTQ0Xbb3PyYzZWLOybEhIy_vi4kcmeyjZnRIgGlwkbWI0Ab0oNmjCejlYRqgALObpyxcNi4WXfj8aSqXQZxztbVXAtNZ2QHWr8BkMunJKTi1UH5F_PJk1Vqb2UaJf2VyZ2lHOpnHsk6h7WTxzmBaBB09Kb5D2kmCRyQ2976pqjMb1kB8CitH6P9tikofvpsE7sQ1G984mvtSCAceK4mMjFi6TfslN969Ml_z2MthIZpYOKGkwMyFnBTSZhZuYUo6l02ajVaWgON5AF02IArtBcgb6PtOb-YmR0W68KUi8ysnmcQrDD6NoD-TSjwOcd-kqOm4LP2r2yxVXVz1V___oNarRzp18FWp8XAwRr-y29FqWMLvHU94YmIzURw9oYLQ6gDBnPsAUuemI5IMFGSZZtR-2XvduvR5AvyQL56b4oY_fN5TSf0a9bOR9Lf8scWdNjUDl_WPGkE8hto0VkgTJ1QOaixo1GzIle5W5j5SdcbGn42xWSh8_lT7Pe8zfWtFf8v2psWJCNayxVA-c1cYPTNX25WhdwGgL3sUmTo2N9abV22OvGWen-n9LI_zc1z0hCA8paiX4_C3r6aKJms1UciZQMsa0I_V34H5VBpYAFnye1_ky_w7uuxvPnAoOb8crZB054Zvb9Qr694UQ4FIe0w9qwYEv5Gv5ZwUWmFAXb5ScLFOhFgjjjt_oqnPmVoaUmNk3rgLKJ3tItXm68Ws0gj25zCJS1c6MKTP1eOPEZ1nY4f16ESrCM3PL8p3LnG7sq9Jgw1W1f0rP7ndDrfF22-ziOlGI1FIeifD8s50jf1ZmjEO0hDwFdjFvFfo44mfsG8e3gsvLWKaQo5zYbMTI4jkuHOwqsmh_zoxSPt2DLEhR-0kfEo05qWiOP6Je-cjyYs1gdjYHoKCzESyhhJucOIn5odNZC2Zk5IWk4wt6Nl3vy8FJmoFbKqxVqbXpV0nncWt4WcrkbyGL9-aKnDMNbR_ODLqZcgol7Iy6gTwtfB1LsEdUmVSm79DJTnrKWFZmBPvUEBC-N_aXa3cAxdBdMvbuiMa1MPdJrMeLiGP4pE8nMIdnt80H6syQX8bc8K2Z2fx98SokY6Fmcfxyh0RzhjiLQWe-16k2p_2mTv0C2yNgnXDfg-VR6CSQNDVEywXeOw7Kd_dqv1t63OirWOBxEUdCFnBjAWpA-8JLWZj7UpGEpWlaTDY5CDrp9UCx97QPH3FAvpiblyzl8fh00jYv_MdOCBUO9_ab788LrGdnD3jHN63gJJtoM2SMnAp-AegdJvk1C73QFyLP_dUA\">\n",
      "        </form>\n",
      "    </div>\n",
      "</div>\n",
      "<script>\n",
      "    (function(){\n",
      "        window._cf_chl_opt={\n",
      "            cvId: '2',\n",
      "            cZone: 'www.datacamp.com',\n",
      "            cType: 'non-interactive',\n",
      "            cNounce: '3519',\n",
      "            cRay: '7ad6048dcbe4cb77',\n",
      "            cHash: '3c90bf2e99e8052',\n",
      "            cUPMDTk: \"\\/teach\\/documentation?__cf_chl_tk=UhfOCOB3pciT2NM6aQj20e9HgLrRtGZJPsK7DYKfxX0-1679735395-0-gaNycGzNCns\",\n",
      "            cFPWv: 'b',\n",
      "            cTTimeMs: '1000',\n",
      "            cMTimeMs: '60000',\n",
      "            cTplV: 5,\n",
      "            cTplB: 'cf',\n",
      "            cK: \"\",\n",
      "            cRq: {\n",
      "                ru: 'aHR0cHM6Ly93d3cuZGF0YWNhbXAuY29tL3RlYWNoL2RvY3VtZW50YXRpb24=',\n",
      "                ra: 'cHl0aG9uLXJlcXVlc3RzLzIuMjguMg==',\n",
      "                rm: 'R0VU',\n",
      "                d: '3Qwq+uv/kg825hoy7wXJWDbqnpZYlTLcOi1RP976qy3+lw2orA2DWWubhm4wktSMU51hVyIARqva8MIhVaHwYu7lKB6hRTPXBJkEJlQGCd5hBESwEW1EiS+NzuQGi+tClnmgWxPORYjvchkpY0lYi3b4nl3ju8OkAxoKlplw8Hu06f+koS0FNgPf7VQBiCC1bemoSSkM0+p7LJ7lKY0sklgbkiS9GgYv+nIB12LS4w5Y0+E7zn8VQIaLXEd4ukOEtkF5nDYddKAIVfn0oSzRIlkVnUojuT9FrAV8CsEsK+UVhgeMtNlS8GAVPB/Yh1qoQXLbpBNTTfD1hH/TgXtH3zE36/y7+Qr18uXuPKBFlCUjtSgGKKOqeIG+w6Mu2/ike+HQHobPBxo+RZRyJuyVaJpAxUZ3wMdfpyxp1OtC+ZKnoAgEM5+xV1pHiqmoNuE4Y/Hp+Q5krRs86vRBJ+Rnpv2/QavJejbnWa0Cuxz6H2uEcJ7oQi9o9WpL9QkOvkztZDPb9zfQGeNMMThzBwwQ8+rB53JVXOPR58H3f/Fkjp91SFV6VrwY8jepc3QHCVypjjBNjcUhuut1Zm1XsNrAKg==',\n",
      "                t: 'MTY3OTczNTM5NS40OTIwMDA=',\n",
      "                m: '+S3J4JSn97XnRdLigakOtK4vQ4HUdrrpfmodkDRBHKY=',\n",
      "                i1: '6Vtm3EKH+ZObeaJ5XRZ52A==',\n",
      "                i2: 'K0dofr7qUIBfuIR8YSp8GQ==',\n",
      "                zh: 'hzfiqo9hugT9sHeHQ1zy81NCL/S0295H0+GuRnkSV9o=',\n",
      "                uh: 'neMFmDCz0LRc0/Wea+5x0IhJieHbzcQVSkMgFkgnrjc=',\n",
      "                hh: 'rAZnIHiyrNuZ60h9aAZNML8izDilqmOSNuCtac1WqPs=',\n",
      "            }\n",
      "        };\n",
      "        var trkjs = document.createElement('img');\n",
      "        trkjs.setAttribute('src', '/cdn-cgi/images/trace/jsch/js/transparent.gif?ray=7ad6048dcbe4cb77');\n",
      "        trkjs.setAttribute('alt', '');\n",
      "        trkjs.setAttribute('style', 'display: none');\n",
      "        document.body.appendChild(trkjs);\n",
      "        var cpo = document.createElement('script');\n",
      "        cpo.src = '/cdn-cgi/challenge-platform/h/b/orchestrate/jsch/v1?ray=7ad6048dcbe4cb77';\n",
      "        window._cf_chl_opt.cOgUHash = location.hash === '' && location.href.indexOf('#') !== -1 ? '#' : location.hash;\n",
      "        window._cf_chl_opt.cOgUQuery = location.search === '' && location.href.slice(0, location.href.length - window._cf_chl_opt.cOgUHash.length).indexOf('?') !== -1 ? '?' : location.search;\n",
      "        if (window.history && window.history.replaceState) {\n",
      "            var ogU = location.pathname + window._cf_chl_opt.cOgUQuery + window._cf_chl_opt.cOgUHash;\n",
      "            history.replaceState(null, null, \"\\/teach\\/documentation?__cf_chl_rt_tk=UhfOCOB3pciT2NM6aQj20e9HgLrRtGZJPsK7DYKfxX0-1679735395-0-gaNycGzNCns\" + window._cf_chl_opt.cOgUHash);\n",
      "            cpo.onload = function() {\n",
      "                history.replaceState(null, null, ogU);\n",
      "            };\n",
      "        }\n",
      "        document.getElementsByTagName('head')[0].appendChild(cpo);\n",
      "    }());\n",
      "</script>\n",
      "\n",
      "\n",
      "</body>\n",
      "</html>\n",
      "\n"
     ]
    }
   ],
   "source": [
    "\n",
    "# Packages the request, send the request and catch the response: r\n",
    "r = requests.get(url)\n",
    "\n",
    "# Extract the response: text\n",
    "text = r.text\n",
    "\n",
    "# Print the html\n",
    "print(text)"
   ]
  }
 ],
 "metadata": {
  "kernelspec": {
   "display_name": "Python 3.10.10 64-bit (microsoft store)",
   "language": "python",
   "name": "python3"
  },
  "language_info": {
   "codemirror_mode": {
    "name": "ipython",
    "version": 3
   },
   "file_extension": ".py",
   "mimetype": "text/x-python",
   "name": "python",
   "nbconvert_exporter": "python",
   "pygments_lexer": "ipython3",
   "version": "3.10.10"
  },
  "orig_nbformat": 4,
  "vscode": {
   "interpreter": {
    "hash": "a46e79f34d4c11223a7598a76368f7a18b43aa165775694ac821dce1e6b10059"
   }
  }
 },
 "nbformat": 4,
 "nbformat_minor": 2
}
